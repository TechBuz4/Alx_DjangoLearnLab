{
 "cells": [
  {
   "cell_type": "code",
   "execution_count": 4,
   "metadata": {},
   "outputs": [
    {
     "name": "stdout",
     "output_type": "stream",
     "text": [
      "c:\\Users\\chris\\alx\\new_alx\\Alx_DjangoLearnLab\n"
     ]
    }
   ],
   "source": [
    "cd c:\\Users\\chris\\alx\\new_alx\\Alx_DjangoLearnLab"
   ]
  },
  {
   "cell_type": "code",
   "execution_count": 5,
   "metadata": {},
   "outputs": [],
   "source": [
    "!django-admin startproject social_media_api"
   ]
  },
  {
   "cell_type": "code",
   "execution_count": 8,
   "metadata": {},
   "outputs": [
    {
     "name": "stdout",
     "output_type": "stream",
     "text": [
      " Volume in drive C is OS\n",
      " Volume Serial Number is 8601-7E58\n",
      "\n",
      " Directory of c:\\Users\\chris\\alx\\new_alx\\Alx_DjangoLearnLab\\social_media_api\n",
      "\n",
      "2025-03-28  01:10 PM    <DIR>          .\n",
      "2025-03-28  01:10 PM    <DIR>          ..\n",
      "2025-03-28  01:10 PM               694 manage.py\n",
      "2025-03-28  01:10 PM    <DIR>          social_media_api\n",
      "               1 File(s)            694 bytes\n",
      "               3 Dir(s)   8,718,815,232 bytes free\n"
     ]
    }
   ],
   "source": [
    "ls"
   ]
  },
  {
   "cell_type": "code",
   "execution_count": 7,
   "metadata": {},
   "outputs": [
    {
     "name": "stdout",
     "output_type": "stream",
     "text": [
      "c:\\Users\\chris\\alx\\new_alx\\Alx_DjangoLearnLab\\social_media_api\n"
     ]
    }
   ],
   "source": [
    "cd social_media_api "
   ]
  },
  {
   "cell_type": "code",
   "execution_count": 9,
   "metadata": {},
   "outputs": [],
   "source": [
    "!python manage.py startapp accounts"
   ]
  },
  {
   "cell_type": "code",
   "execution_count": null,
   "metadata": {},
   "outputs": [],
   "source": []
  },
  {
   "cell_type": "code",
   "execution_count": null,
   "metadata": {},
   "outputs": [],
   "source": []
  },
  {
   "cell_type": "code",
   "execution_count": null,
   "metadata": {},
   "outputs": [],
   "source": []
  }
 ],
 "metadata": {
  "kernelspec": {
   "display_name": "price",
   "language": "python",
   "name": "python3"
  },
  "language_info": {
   "codemirror_mode": {
    "name": "ipython",
    "version": 3
   },
   "file_extension": ".py",
   "mimetype": "text/x-python",
   "name": "python",
   "nbconvert_exporter": "python",
   "pygments_lexer": "ipython3",
   "version": "3.12.8"
  }
 },
 "nbformat": 4,
 "nbformat_minor": 2
}
