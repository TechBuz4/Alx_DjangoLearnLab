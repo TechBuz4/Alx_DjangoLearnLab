{
 "cells": [
  {
   "cell_type": "code",
   "execution_count": 1,
   "metadata": {},
   "outputs": [
    {
     "name": "stdout",
     "output_type": "stream",
     "text": [
      "c:\\Users\\chris\\alx\\new_alx\\Alx_DjangoLearnLab\n"
     ]
    }
   ],
   "source": [
    "%cd c:\\Users\\chris\\alx\\new_alx\\Alx_DjangoLearnLab"
   ]
  },
  {
   "cell_type": "code",
   "execution_count": 1,
   "metadata": {},
   "outputs": [
    {
     "data": {
      "text/plain": [
       "'c:\\\\Users\\\\chris\\\\alx\\\\new_alx\\\\Alx_DjangoLearnLab'"
      ]
     },
     "execution_count": 1,
     "metadata": {},
     "output_type": "execute_result"
    }
   ],
   "source": [
    "pwd"
   ]
  },
  {
   "cell_type": "code",
   "execution_count": 3,
   "metadata": {},
   "outputs": [],
   "source": [
    "!django-admin startproject django_blog"
   ]
  },
  {
   "cell_type": "code",
   "execution_count": 6,
   "metadata": {},
   "outputs": [
    {
     "name": "stdout",
     "output_type": "stream",
     "text": [
      "c:\\Users\\chris\\alx\\new_alx\\Alx_DjangoLearnLab\\django_blog\n"
     ]
    }
   ],
   "source": [
    "%cd django_blog"
   ]
  },
  {
   "cell_type": "code",
   "execution_count": 8,
   "metadata": {},
   "outputs": [],
   "source": [
    "!python manage.py startapp blog"
   ]
  },
  {
   "cell_type": "code",
   "execution_count": 15,
   "metadata": {},
   "outputs": [
    {
     "name": "stdout",
     "output_type": "stream",
     "text": [
      "No changes detected in app 'blog'\n"
     ]
    },
    {
     "name": "stderr",
     "output_type": "stream",
     "text": [
      "System check identified some issues:\n",
      "\n",
      "WARNINGS:\n",
      "?: (staticfiles.W004) The directory 'C:\\Users\\chris\\alx\\new_alx\\Alx_DjangoLearnLab\\django_blog\\static' in the STATICFILES_DIRS setting does not exist.\n",
      "c:\\Users\\chris\\anaconda3\\envs\\price\\Lib\\site-packages\\django\\core\\management\\commands\\makemigrations.py:160: RuntimeWarning: Got an error checking a consistent migration history performed for database connection 'default': connection to server at \"localhost\" (::1), port 5432 failed: Connection refused (0x0000274D/10061)\n",
      "\tIs the server running on that host and accepting TCP/IP connections?\n",
      "connection to server at \"localhost\" (127.0.0.1), port 5432 failed: Connection refused (0x0000274D/10061)\n",
      "\tIs the server running on that host and accepting TCP/IP connections?\n",
      "\n",
      "  warnings.warn(\n",
      "System check identified some issues:\n",
      "\n",
      "WARNINGS:\n",
      "?: (staticfiles.W004) The directory 'C:\\Users\\chris\\alx\\new_alx\\Alx_DjangoLearnLab\\django_blog\\static' in the STATICFILES_DIRS setting does not exist.\n",
      "Traceback (most recent call last):\n",
      "  File \"c:\\Users\\chris\\anaconda3\\envs\\price\\Lib\\site-packages\\django\\db\\backends\\base\\base.py\", line 279, in ensure_connection\n",
      "    self.connect()\n",
      "  File \"c:\\Users\\chris\\anaconda3\\envs\\price\\Lib\\site-packages\\django\\utils\\asyncio.py\", line 26, in inner\n",
      "    return func(*args, **kwargs)\n",
      "           ^^^^^^^^^^^^^^^^^^^^^\n",
      "  File \"c:\\Users\\chris\\anaconda3\\envs\\price\\Lib\\site-packages\\django\\db\\backends\\base\\base.py\", line 256, in connect\n",
      "    self.connection = self.get_new_connection(conn_params)\n",
      "                      ^^^^^^^^^^^^^^^^^^^^^^^^^^^^^^^^^^^^\n",
      "  File \"c:\\Users\\chris\\anaconda3\\envs\\price\\Lib\\site-packages\\django\\utils\\asyncio.py\", line 26, in inner\n",
      "    return func(*args, **kwargs)\n",
      "           ^^^^^^^^^^^^^^^^^^^^^\n",
      "  File \"c:\\Users\\chris\\anaconda3\\envs\\price\\Lib\\site-packages\\django\\db\\backends\\postgresql\\base.py\", line 332, in get_new_connection\n",
      "    connection = self.Database.connect(**conn_params)\n",
      "                 ^^^^^^^^^^^^^^^^^^^^^^^^^^^^^^^^^^^^\n",
      "  File \"c:\\Users\\chris\\anaconda3\\envs\\price\\Lib\\site-packages\\psycopg2\\__init__.py\", line 122, in connect\n",
      "    conn = _connect(dsn, connection_factory=connection_factory, **kwasync)\n",
      "           ^^^^^^^^^^^^^^^^^^^^^^^^^^^^^^^^^^^^^^^^^^^^^^^^^^^^^^^^^^^^^^^\n",
      "psycopg2.OperationalError: connection to server at \"localhost\" (::1), port 5432 failed: Connection refused (0x0000274D/10061)\n",
      "\tIs the server running on that host and accepting TCP/IP connections?\n",
      "connection to server at \"localhost\" (127.0.0.1), port 5432 failed: Connection refused (0x0000274D/10061)\n",
      "\tIs the server running on that host and accepting TCP/IP connections?\n",
      "\n",
      "\n",
      "The above exception was the direct cause of the following exception:\n",
      "\n",
      "Traceback (most recent call last):\n",
      "  File \"c:\\Users\\chris\\alx\\new_alx\\Alx_DjangoLearnLab\\django_blog\\manage.py\", line 22, in <module>\n",
      "    main()\n",
      "  File \"c:\\Users\\chris\\alx\\new_alx\\Alx_DjangoLearnLab\\django_blog\\manage.py\", line 18, in main\n",
      "    execute_from_command_line(sys.argv)\n",
      "  File \"c:\\Users\\chris\\anaconda3\\envs\\price\\Lib\\site-packages\\django\\core\\management\\__init__.py\", line 442, in execute_from_command_line\n",
      "    utility.execute()\n",
      "  File \"c:\\Users\\chris\\anaconda3\\envs\\price\\Lib\\site-packages\\django\\core\\management\\__init__.py\", line 436, in execute\n",
      "    self.fetch_command(subcommand).run_from_argv(self.argv)\n",
      "  File \"c:\\Users\\chris\\anaconda3\\envs\\price\\Lib\\site-packages\\django\\core\\management\\base.py\", line 413, in run_from_argv\n",
      "    self.execute(*args, **cmd_options)\n",
      "  File \"c:\\Users\\chris\\anaconda3\\envs\\price\\Lib\\site-packages\\django\\core\\management\\base.py\", line 459, in execute\n",
      "    output = self.handle(*args, **options)\n",
      "             ^^^^^^^^^^^^^^^^^^^^^^^^^^^^^\n",
      "  File \"c:\\Users\\chris\\anaconda3\\envs\\price\\Lib\\site-packages\\django\\core\\management\\base.py\", line 107, in wrapper\n",
      "    res = handle_func(*args, **kwargs)\n",
      "          ^^^^^^^^^^^^^^^^^^^^^^^^^^^^\n",
      "  File \"c:\\Users\\chris\\anaconda3\\envs\\price\\Lib\\site-packages\\django\\core\\management\\commands\\migrate.py\", line 118, in handle\n",
      "    executor = MigrationExecutor(connection, self.migration_progress_callback)\n",
      "               ^^^^^^^^^^^^^^^^^^^^^^^^^^^^^^^^^^^^^^^^^^^^^^^^^^^^^^^^^^^^^^^\n",
      "  File \"c:\\Users\\chris\\anaconda3\\envs\\price\\Lib\\site-packages\\django\\db\\migrations\\executor.py\", line 18, in __init__\n",
      "    self.loader = MigrationLoader(self.connection)\n",
      "                  ^^^^^^^^^^^^^^^^^^^^^^^^^^^^^^^^\n",
      "  File \"c:\\Users\\chris\\anaconda3\\envs\\price\\Lib\\site-packages\\django\\db\\migrations\\loader.py\", line 58, in __init__\n",
      "    self.build_graph()\n",
      "  File \"c:\\Users\\chris\\anaconda3\\envs\\price\\Lib\\site-packages\\django\\db\\migrations\\loader.py\", line 235, in build_graph\n",
      "    self.applied_migrations = recorder.applied_migrations()\n",
      "                              ^^^^^^^^^^^^^^^^^^^^^^^^^^^^^\n",
      "  File \"c:\\Users\\chris\\anaconda3\\envs\\price\\Lib\\site-packages\\django\\db\\migrations\\recorder.py\", line 89, in applied_migrations\n",
      "    if self.has_table():\n",
      "       ^^^^^^^^^^^^^^^^\n",
      "  File \"c:\\Users\\chris\\anaconda3\\envs\\price\\Lib\\site-packages\\django\\db\\migrations\\recorder.py\", line 63, in has_table\n",
      "    with self.connection.cursor() as cursor:\n",
      "         ^^^^^^^^^^^^^^^^^^^^^^^^\n",
      "  File \"c:\\Users\\chris\\anaconda3\\envs\\price\\Lib\\site-packages\\django\\utils\\asyncio.py\", line 26, in inner\n",
      "    return func(*args, **kwargs)\n",
      "           ^^^^^^^^^^^^^^^^^^^^^\n",
      "  File \"c:\\Users\\chris\\anaconda3\\envs\\price\\Lib\\site-packages\\django\\db\\backends\\base\\base.py\", line 320, in cursor\n",
      "    return self._cursor()\n",
      "           ^^^^^^^^^^^^^^\n",
      "  File \"c:\\Users\\chris\\anaconda3\\envs\\price\\Lib\\site-packages\\django\\db\\backends\\base\\base.py\", line 296, in _cursor\n",
      "    self.ensure_connection()\n",
      "  File \"c:\\Users\\chris\\anaconda3\\envs\\price\\Lib\\site-packages\\django\\utils\\asyncio.py\", line 26, in inner\n",
      "    return func(*args, **kwargs)\n",
      "           ^^^^^^^^^^^^^^^^^^^^^\n",
      "  File \"c:\\Users\\chris\\anaconda3\\envs\\price\\Lib\\site-packages\\django\\db\\backends\\base\\base.py\", line 278, in ensure_connection\n",
      "    with self.wrap_database_errors:\n",
      "         ^^^^^^^^^^^^^^^^^^^^^^^^^\n",
      "  File \"c:\\Users\\chris\\anaconda3\\envs\\price\\Lib\\site-packages\\django\\db\\utils.py\", line 91, in __exit__\n",
      "    raise dj_exc_value.with_traceback(traceback) from exc_value\n",
      "  File \"c:\\Users\\chris\\anaconda3\\envs\\price\\Lib\\site-packages\\django\\db\\backends\\base\\base.py\", line 279, in ensure_connection\n",
      "    self.connect()\n",
      "  File \"c:\\Users\\chris\\anaconda3\\envs\\price\\Lib\\site-packages\\django\\utils\\asyncio.py\", line 26, in inner\n",
      "    return func(*args, **kwargs)\n",
      "           ^^^^^^^^^^^^^^^^^^^^^\n",
      "  File \"c:\\Users\\chris\\anaconda3\\envs\\price\\Lib\\site-packages\\django\\db\\backends\\base\\base.py\", line 256, in connect\n",
      "    self.connection = self.get_new_connection(conn_params)\n",
      "                      ^^^^^^^^^^^^^^^^^^^^^^^^^^^^^^^^^^^^\n",
      "  File \"c:\\Users\\chris\\anaconda3\\envs\\price\\Lib\\site-packages\\django\\utils\\asyncio.py\", line 26, in inner\n",
      "    return func(*args, **kwargs)\n",
      "           ^^^^^^^^^^^^^^^^^^^^^\n",
      "  File \"c:\\Users\\chris\\anaconda3\\envs\\price\\Lib\\site-packages\\django\\db\\backends\\postgresql\\base.py\", line 332, in get_new_connection\n",
      "    connection = self.Database.connect(**conn_params)\n",
      "                 ^^^^^^^^^^^^^^^^^^^^^^^^^^^^^^^^^^^^\n",
      "  File \"c:\\Users\\chris\\anaconda3\\envs\\price\\Lib\\site-packages\\psycopg2\\__init__.py\", line 122, in connect\n",
      "    conn = _connect(dsn, connection_factory=connection_factory, **kwasync)\n",
      "           ^^^^^^^^^^^^^^^^^^^^^^^^^^^^^^^^^^^^^^^^^^^^^^^^^^^^^^^^^^^^^^^\n",
      "django.db.utils.OperationalError: connection to server at \"localhost\" (::1), port 5432 failed: Connection refused (0x0000274D/10061)\n",
      "\tIs the server running on that host and accepting TCP/IP connections?\n",
      "connection to server at \"localhost\" (127.0.0.1), port 5432 failed: Connection refused (0x0000274D/10061)\n",
      "\tIs the server running on that host and accepting TCP/IP connections?\n",
      "\n"
     ]
    }
   ],
   "source": [
    "!python manage.py makemigrations blog\n",
    "!python manage.py migrate"
   ]
  },
  {
   "cell_type": "code",
   "execution_count": 16,
   "metadata": {},
   "outputs": [
    {
     "name": "stdout",
     "output_type": "stream",
     "text": [
      "^C\n"
     ]
    }
   ],
   "source": [
    "!python manage.py runserver"
   ]
  },
  {
   "cell_type": "code",
   "execution_count": 12,
   "metadata": {},
   "outputs": [
    {
     "name": "stdout",
     "output_type": "stream",
     "text": [
      "Collecting psycopg2-binary\n",
      "  Downloading psycopg2_binary-2.9.10-cp312-cp312-win_amd64.whl.metadata (5.0 kB)\n",
      "Downloading psycopg2_binary-2.9.10-cp312-cp312-win_amd64.whl (1.2 MB)\n",
      "   ---------------------------------------- 0.0/1.2 MB ? eta -:--:--\n",
      "   ------------------------------------ --- 1.0/1.2 MB 8.4 MB/s eta 0:00:01\n",
      "   ---------------------------------------- 1.2/1.2 MB 6.4 MB/s eta 0:00:00\n",
      "Installing collected packages: psycopg2-binary\n",
      "Successfully installed psycopg2-binary-2.9.10\n"
     ]
    }
   ],
   "source": [
    "!pip install psycopg2-binary\n"
   ]
  },
  {
   "cell_type": "code",
   "execution_count": 17,
   "metadata": {},
   "outputs": [
    {
     "name": "stdout",
     "output_type": "stream",
     "text": [
      "Collecting django-taggit\n",
      "  Downloading django_taggit-6.1.0-py3-none-any.whl.metadata (3.5 kB)\n",
      "Requirement already satisfied: Django>=4.1 in c:\\users\\chris\\anaconda3\\envs\\price\\lib\\site-packages (from django-taggit) (5.1.6)\n",
      "Requirement already satisfied: asgiref<4,>=3.8.1 in c:\\users\\chris\\anaconda3\\envs\\price\\lib\\site-packages (from Django>=4.1->django-taggit) (3.8.1)\n",
      "Requirement already satisfied: sqlparse>=0.3.1 in c:\\users\\chris\\anaconda3\\envs\\price\\lib\\site-packages (from Django>=4.1->django-taggit) (0.5.3)\n",
      "Requirement already satisfied: tzdata in c:\\users\\chris\\anaconda3\\envs\\price\\lib\\site-packages (from Django>=4.1->django-taggit) (2025.1)\n",
      "Downloading django_taggit-6.1.0-py3-none-any.whl (75 kB)\n",
      "Installing collected packages: django-taggit\n",
      "Successfully installed django-taggit-6.1.0\n"
     ]
    }
   ],
   "source": [
    "!pip install django-taggit\n"
   ]
  },
  {
   "cell_type": "code",
   "execution_count": null,
   "metadata": {},
   "outputs": [],
   "source": []
  },
  {
   "cell_type": "code",
   "execution_count": null,
   "metadata": {},
   "outputs": [],
   "source": []
  }
 ],
 "metadata": {
  "kernelspec": {
   "display_name": "price",
   "language": "python",
   "name": "python3"
  },
  "language_info": {
   "codemirror_mode": {
    "name": "ipython",
    "version": 3
   },
   "file_extension": ".py",
   "mimetype": "text/x-python",
   "name": "python",
   "nbconvert_exporter": "python",
   "pygments_lexer": "ipython3",
   "version": "3.12.8"
  }
 },
 "nbformat": 4,
 "nbformat_minor": 2
}
